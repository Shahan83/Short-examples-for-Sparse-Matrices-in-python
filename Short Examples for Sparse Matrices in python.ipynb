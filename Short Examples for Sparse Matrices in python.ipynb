{
 "cells": [
  {
   "cell_type": "code",
   "execution_count": null,
   "metadata": {
    "collapsed": true
   },
   "outputs": [],
   "source": [
    "##Sparse Matrices - which are regular matrices that do only store elements that exhibit a value different from zero. \n",
    "\"\"\"\n",
    "seven sparse matrix types in scipy.sparse:\n",
    "csc_matrix: Compressed Sparse Column format\n",
    "csr_matrix: Compressed Sparse Row format\n",
    "bsr_matrix: Block Sparse Row format\n",
    "lil_matrix: List of Lists format\n",
    "dok_matrix: Dictionary of Keys format\n",
    "coo_matrix: COOrdinate format (aka IJV, triplet format)\n",
    "dia_matrix: DIAgonal format\n",
    "\"\"\"\n",
    "import numpy as np\n",
    "import scipy.sparse as sps\n",
    "import matplotlib.pyplot as plt\n",
    "from scipy.sparse import csr_matrix\n",
    "\n",
    "# To do a vector product between a sparse matrix and a vector simply use the matrix dot method, as described in its docstring:\n"
   ]
  },
  {
   "cell_type": "code",
   "execution_count": null,
   "metadata": {
    "collapsed": true
   },
   "outputs": [],
   "source": []
  },
  {
   "cell_type": "code",
   "execution_count": 4,
   "metadata": {
    "collapsed": false
   },
   "outputs": [
    {
     "name": "stdout",
     "output_type": "stream",
     "text": [
      "[0 0 1 3 1 0 0]\n",
      "[0 2 1 3 1 0 0]\n",
      "[1 1 1 1 1 1 1]\n",
      "  (0, 0)\t3\n",
      "  (0, 2)\t1\n",
      "  (1, 1)\t2\n",
      "  (3, 3)\t1\n"
     ]
    }
   ],
   "source": [
    "#Construct a matrix in COO format:\n",
    "from scipy import sparse\n",
    "from numpy import array\n",
    "I = array([0,3,1,0])\n",
    "J = array([0,3,1,2])\n",
    "V = array([4,5,7,9])\n",
    "A = sparse.coo_matrix((V,(I,J)),shape=(4,4))\n",
    "#print(A)\n",
    "\n",
    "\"\"\"\n",
    "Notice that the indices do not need to be sorted.\n",
    "\n",
    "Duplicate (i,j) entries are summed when converting to CSR or CSC.\"\"\"\n",
    "I = array([0,0,1,3,1,0,0])\n",
    "J = array([0,2,1,3,1,0,0])\n",
    "V = array([1,1,1,1,1,1,1])\n",
    "B = sparse.coo_matrix((V,(I,J)),shape=(4,4)).tocsr()\n",
    "print(I)\n",
    "print(J)\n",
    "print(V)\n",
    "print(B)"
   ]
  },
  {
   "cell_type": "code",
   "execution_count": 12,
   "metadata": {
    "collapsed": false
   },
   "outputs": [
    {
     "name": "stdout",
     "output_type": "stream",
     "text": [
      "  (0, 0)\t1\n",
      "  (1, 1)\t2\n",
      "  (2, 2)\t3\n",
      "  (3, 3)\t4\n",
      "  (1, 0)\t1\n",
      "  (2, 1)\t2\n",
      "  (3, 2)\t3\n",
      "  (0, 2)\t3\n",
      "  (1, 3)\t4\n"
     ]
    },
    {
     "data": {
      "text/plain": [
       "matrix([[1, 0, 3, 0],\n",
       "        [1, 2, 0, 4],\n",
       "        [0, 2, 3, 0],\n",
       "        [0, 0, 3, 4]])"
      ]
     },
     "execution_count": 12,
     "metadata": {},
     "output_type": "execute_result"
    }
   ],
   "source": [
    "## Diagonal Matrix\n",
    "import numpy as np\n",
    "data = np.array([[1, 2, 3, 4]]).repeat(3, axis=0)\n",
    "data\n",
    "\n",
    "offsets = np.array([0, -1, 2])\n",
    "mtx = sparse.dia_matrix((data, offsets), shape=(4, 4))\n",
    "mtx  \n",
    "print(mtx)\n",
    "mtx.todense()\n"
   ]
  },
  {
   "cell_type": "code",
   "execution_count": 15,
   "metadata": {
    "collapsed": false
   },
   "outputs": [
    {
     "data": {
      "text/plain": [
       "array([[ 1,  2,  3,  4],\n",
       "       [ 5,  6,  7,  8],\n",
       "       [ 9, 10, 11, 12]])"
      ]
     },
     "execution_count": 15,
     "metadata": {},
     "output_type": "execute_result"
    }
   ],
   "source": [
    "data = np.arange(12).reshape((3, 4)) + 1\n",
    "data\n",
    "\n"
   ]
  },
  {
   "cell_type": "code",
   "execution_count": 17,
   "metadata": {
    "collapsed": false
   },
   "outputs": [
    {
     "name": "stdout",
     "output_type": "stream",
     "text": [
      "  (0, 0)\t1\n",
      "  (1, 1)\t2\n",
      "  (2, 2)\t3\n",
      "  (3, 3)\t4\n",
      "  (1, 0)\t5\n",
      "  (2, 1)\t6\n",
      "  (3, 2)\t7\n",
      "  (0, 2)\t11\n",
      "  (1, 3)\t12\n"
     ]
    }
   ],
   "source": [
    "mtx = sparse.dia_matrix((data, offsets), shape=(4, 4))\n",
    "mtx.data \n",
    "mtx.offsets\n",
    "print(mtx)"
   ]
  },
  {
   "cell_type": "code",
   "execution_count": 21,
   "metadata": {
    "collapsed": false
   },
   "outputs": [
    {
     "data": {
      "text/plain": [
       "array([[  1.,   0.,  11.,   0.],\n",
       "       [  5.,   2.,   0.,  12.],\n",
       "       [  0.,   6.,   3.,   0.],\n",
       "       [  0.,   0.,   7.,   4.]])"
      ]
     },
     "execution_count": 21,
     "metadata": {},
     "output_type": "execute_result"
    }
   ],
   "source": [
    "vec = np.ones((4, ))\n",
    "vec\n",
    "\n",
    "mtx * vec\n",
    "\n",
    "mtx.toarray() * vec"
   ]
  },
  {
   "cell_type": "code",
   "execution_count": 27,
   "metadata": {
    "collapsed": false
   },
   "outputs": [
    {
     "name": "stdout",
     "output_type": "stream",
     "text": [
      "  (1, 2)\t1.0\n",
      "  (1, 3)\t1.0\n"
     ]
    },
    {
     "data": {
      "text/plain": [
       "array([[ 0.,  0.,  0.,  0.,  0.],\n",
       "       [ 0.,  0.,  1.,  1.,  0.],\n",
       "       [ 0.,  0.,  0.,  0.,  0.],\n",
       "       [ 0.,  0.,  0.,  0.,  0.]])"
      ]
     },
     "execution_count": 27,
     "metadata": {},
     "output_type": "execute_result"
    }
   ],
   "source": [
    "## Lists of Lists format\n",
    "\"\"\"\n",
    "each row is a Python list (sorted) of column indices of non-zero elements\n",
    "efficient for constructing sparse matrices incrementally\n",
    "flexible slicing, changing sparsity structure is efficient\n",
    "slow arithmetics, slow column slicing due to being row-based\n",
    "use:\n",
    "when sparsity pattern is not known apriori or changes\n",
    "example: reading a sparse matrix from a text file\n",
    "\"\"\"\n",
    "mtx = sparse.lil_matrix((4, 5))\n",
    "\n",
    "#random data\n",
    "from numpy.random import rand\n",
    "data = np.round(rand(2, 3))\n",
    "data\n",
    "\n",
    "#assign the data using indexing\n",
    "mtx[:2, [1, 2, 3]] = data\n",
    "mtx  \n",
    "print(mtx)\n",
    "\n",
    "mtx.todense()\n",
    "mtx.toarray()\n",
    "\n"
   ]
  },
  {
   "cell_type": "code",
   "execution_count": 31,
   "metadata": {
    "collapsed": false
   },
   "outputs": [
    {
     "name": "stdout",
     "output_type": "stream",
     "text": [
      "  (0, 1)\t1\n",
      "  (0, 2)\t2\n",
      "  (1, 0)\t3\n",
      "  (1, 2)\t1\n",
      "  (2, 0)\t1\n",
      "  (2, 3)\t1\n"
     ]
    },
    {
     "data": {
      "text/plain": [
       "<2x4 sparse matrix of type '<class 'numpy.int64'>'\n",
       "\twith 4 stored elements in LInked List format>"
      ]
     },
     "execution_count": 31,
     "metadata": {},
     "output_type": "execute_result"
    }
   ],
   "source": [
    "#slicing and indexing\n",
    "mtx = sparse.lil_matrix([[0, 1, 2, 0], [3, 0, 1, 0], [1, 0, 0, 1]])\n",
    "mtx.todense()    \n",
    "\n",
    "print(mtx)\n",
    "\n",
    "\n"
   ]
  },
  {
   "cell_type": "code",
   "execution_count": 36,
   "metadata": {
    "collapsed": false
   },
   "outputs": [
    {
     "data": {
      "text/plain": [
       "matrix([[0, 1, 2, 0],\n",
       "        [3, 0, 1, 0],\n",
       "        [1, 0, 0, 1]], dtype=int64)"
      ]
     },
     "execution_count": 36,
     "metadata": {},
     "output_type": "execute_result"
    }
   ],
   "source": [
    "mtx[:2, :]\n",
    "mtx[:2, :].todense()\n",
    "mtx[1:2, [0,2]].todense()\n",
    "mtx.todense()"
   ]
  },
  {
   "cell_type": "code",
   "execution_count": 43,
   "metadata": {
    "collapsed": false
   },
   "outputs": [
    {
     "name": "stdout",
     "output_type": "stream",
     "text": [
      "  (1, 2)\t1.0\n",
      "  (3, 2)\t1.0\n",
      "  (1, 3)\t1.0\n",
      "  (3, 0)\t1.0\n",
      "  (2, 1)\t1.0\n",
      "  (2, 3)\t1.0\n",
      "  (1, 4)\t1.0\n",
      "  (4, 2)\t1.0\n",
      "  (1, 0)\t1.0\n",
      "  (0, 3)\t1.0\n",
      "  (4, 0)\t1.0\n",
      "  (0, 1)\t1.0\n",
      "  (3, 4)\t1.0\n",
      "  (3, 1)\t1.0\n",
      "  (2, 4)\t1.0\n",
      "  (2, 0)\t1.0\n",
      "  (4, 3)\t1.0\n",
      "  (0, 4)\t1.0\n",
      "  (4, 1)\t1.0\n",
      "  (0, 2)\t1.0\n"
     ]
    },
    {
     "data": {
      "text/plain": [
       "matrix([[ 0.,  1.,  1.,  1.,  1.],\n",
       "        [ 1.,  0.,  1.,  1.,  1.],\n",
       "        [ 1.,  1.,  0.,  1.,  1.],\n",
       "        [ 1.,  1.,  1.,  0.,  1.],\n",
       "        [ 1.,  1.,  1.,  1.,  0.]])"
      ]
     },
     "execution_count": 43,
     "metadata": {},
     "output_type": "execute_result"
    }
   ],
   "source": [
    "##Dictinoary of Key Format\n",
    "\"\"\"\n",
    "subclass of Python dict\n",
    "keys are (row, column) index tuples (no duplicate entries allowed)\n",
    "values are corresponding non-zero values\n",
    "efficient for constructing sparse matrices incrementally\n",
    "flexible slicing, changing sparsity structure is efficient\n",
    "can be efficiently converted to a coo_matrix once constructed\n",
    "slow arithmetics (for loops with dict.iteritems())\n",
    "use:\n",
    "when sparsity pattern is not known apriori or changes\n",
    "\"\"\"\n",
    "\n",
    "#create a DOK matrix element by element:\n",
    "\n",
    "mtx = sparse.dok_matrix((5, 5), dtype=np.float64)\n",
    "mtx \n",
    "\n",
    "for ir in range(5):\n",
    "    for ic in range(5):\n",
    "        mtx[ir, ic] = 1.0 * (ir != ic)\n",
    "mtx\n",
    "print(mtx)\n",
    "mtx.todense()"
   ]
  },
  {
   "cell_type": "code",
   "execution_count": 48,
   "metadata": {
    "collapsed": false
   },
   "outputs": [
    {
     "name": "stdout",
     "output_type": "stream",
     "text": [
      "  (0, 0)\t4\n",
      "  (3, 3)\t5\n",
      "  (1, 1)\t7\n",
      "  (0, 2)\t9\n"
     ]
    },
    {
     "data": {
      "text/plain": [
       "matrix([[3, 0, 1, 0],\n",
       "        [0, 2, 0, 0],\n",
       "        [0, 0, 0, 0],\n",
       "        [0, 0, 0, 1]])"
      ]
     },
     "execution_count": 48,
     "metadata": {},
     "output_type": "execute_result"
    }
   ],
   "source": [
    "## Coordinate Format\n",
    "\"\"\"\n",
    "also known as the ‘ijv’ or ‘triplet’ format\n",
    "three NumPy arrays: row, col, data\n",
    "data[i] is value at (row[i], col[i]) position\n",
    "permits duplicate entries\n",
    "fast format for constructing sparse matrices\n",
    "very fast conversion to and from CSR/CSC formats\n",
    "fast matrix * vector (sparsetools)\n",
    "fast and easy item-wise operations\n",
    "manipulate data array directly (fast NumPy machinery)\n",
    "no slicing, no arithmetics (directly)\n",
    "use:\n",
    "facilitates fast conversion among sparse formats\n",
    "when converting to other format (usually CSR or CSC), duplicate entries are summed together\n",
    "facilitates efficient construction of finite element matrices\n",
    "\"\"\"\n",
    "#Empty matrix\n",
    "mtx = sparse.coo_matrix((3, 4), dtype=np.int8)\n",
    "mtx.todense()\n",
    "\n",
    "# input data using (data,i,j)tuple\n",
    "row = np.array([0, 3, 1, 0])\n",
    "col = np.array([0, 3, 1, 2])\n",
    "data = np.array([4, 5, 7, 9])\n",
    "mtx = sparse.coo_matrix((data, (row, col)), shape=(4, 4))\n",
    "mtx\n",
    "print(mtx)\n",
    "mtx.todense()\n",
    "\n",
    "## Duplicate entries are summed up together\n",
    "row = np.array([0, 0, 1, 3, 1, 0, 0])\n",
    "col = np.array([0, 2, 1, 3, 1, 0, 0])\n",
    "data = np.array([1, 1, 1, 1, 1, 1, 1])\n",
    "mtx = sparse.coo_matrix((data, (row, col)), shape=(4, 4))\n",
    "mtx.todense()"
   ]
  },
  {
   "cell_type": "code",
   "execution_count": 55,
   "metadata": {
    "collapsed": false
   },
   "outputs": [
    {
     "data": {
      "text/plain": [
       "matrix([[1, 0, 2],\n",
       "        [0, 0, 3],\n",
       "        [4, 5, 6]])"
      ]
     },
     "execution_count": 55,
     "metadata": {},
     "output_type": "execute_result"
    }
   ],
   "source": [
    "## Compressed Sparse Row Format\n",
    "\"\"\"\n",
    "row oriented\n",
    "three NumPy arrays: indices, indptr, data\n",
    "indices is array of column indices\n",
    "data is array of corresponding nonzero values\n",
    "indptr points to row starts in indices and data\n",
    "length is n_row + 1, last item = number of values = length of both indices and data\n",
    "nonzero values of the i-th row are data[indptr[i]:indptr[i+1]] with column indices indices[indptr[i]:indptr[i+1]]\n",
    "item (i, j) can be accessed as data[indptr[i]+k], where k is position of j in indices[indptr[i]:indptr[i+1]]\n",
    "fast matrix vector products and other arithmetics (sparsetools)\n",
    "efficient row slicing, row-oriented operations\n",
    "slow column slicing, expensive changes to the sparsity structure\n",
    "use:\n",
    "actual computations (most linear solvers support this format)\n",
    "\"\"\"\n",
    "\n",
    "#create CSR matrix\n",
    "mtx = sparse.csr_matrix((3, 4), dtype=np.int8)\n",
    "mtx.todense()\n",
    "\n",
    "#create data\n",
    "row = np.array([0, 0, 1, 2, 2, 2])\n",
    "col = np.array([0, 2, 2, 0, 1, 2])\n",
    "data = np.array([1, 2, 3, 4, 5, 6])\n",
    "mtx = sparse.csr_matrix((data, (row, col)), shape=(3, 3))\n",
    "mtx \n",
    "mtx.todense()\n",
    "mtx.data  \n",
    "mtx.indices\n",
    "mtx.indptr\n",
    "\n",
    "#create using (data, indices, indptr) tuple:\n",
    "data = np.array([1, 2, 3, 4, 5, 6])\n",
    "indices = np.array([0, 2, 2, 0, 1, 2])\n",
    "indptr = np.array([0, 2, 3, 6])\n",
    "mtx = sparse.csr_matrix((data, indices, indptr), shape=(3, 3))\n",
    "mtx.todense()"
   ]
  },
  {
   "cell_type": "code",
   "execution_count": 59,
   "metadata": {
    "collapsed": false
   },
   "outputs": [
    {
     "data": {
      "text/plain": [
       "matrix([[1, 0, 2],\n",
       "        [0, 0, 3],\n",
       "        [4, 5, 6]])"
      ]
     },
     "execution_count": 59,
     "metadata": {},
     "output_type": "execute_result"
    }
   ],
   "source": [
    "## Compressed Sparse Column Format (CSC)\n",
    "\"\"\"\n",
    "column oriented\n",
    "three NumPy arrays: indices, indptr, data\n",
    "indices is array of row indices\n",
    "data is array of corresponding nonzero values\n",
    "indptr points to column starts in indices and data\n",
    "length is n_col + 1, last item = number of values = length of both indices and data\n",
    "nonzero values of the i-th column are data[indptr[i]:indptr[i+1]] with row indices indices[indptr[i]:indptr[i+1]]\n",
    "item (i, j) can be accessed as data[indptr[j]+k], where k is position of i in indices[indptr[j]:indptr[j+1]]\n",
    "\n",
    "fast matrix vector products and other arithmetics (sparsetools)\n",
    "\n",
    "efficient column slicing, column-oriented operations\n",
    "slow row slicing, expensive changes to the sparsity structure\n",
    "use:\n",
    "actual computations (most linear solvers support this format)\n",
    "\n",
    "\"\"\"\n",
    "\n",
    "mtx = sparse.csc_matrix((3, 4), dtype=np.int8)\n",
    "mtx.todense()\n",
    "\n",
    "# create using (data, ij) tuple:\n",
    "row = np.array([0, 0, 1, 2, 2, 2])\n",
    "col = np.array([0, 2, 2, 0, 1, 2])\n",
    "data = np.array([1, 2, 3, 4, 5, 6])\n",
    "mtx = sparse.csc_matrix((data, (row, col)), shape=(3, 3))\n",
    "mtx         \n",
    "\n",
    "\n",
    "mtx.todense() \n",
    "mtx.data   \n",
    "\n",
    "mtx.indices\n",
    "\n",
    "mtx.indptr\n",
    "\n",
    "#create using (data, indices, indptr) tuple:\n",
    "data = np.array([1, 4, 5, 2, 3, 6])\n",
    "indices = np.array([0, 2, 2, 0, 1, 2])\n",
    "indptr = np.array([0, 2, 3, 6])\n",
    "mtx = sparse.csc_matrix((data, indices, indptr), shape=(3, 3))\n",
    "mtx.todense()\n"
   ]
  },
  {
   "cell_type": "code",
   "execution_count": 68,
   "metadata": {
    "collapsed": false
   },
   "outputs": [
    {
     "data": {
      "text/plain": [
       "array([[[1, 1],\n",
       "        [1, 1]],\n",
       "\n",
       "       [[2, 2],\n",
       "        [2, 2]],\n",
       "\n",
       "       [[3, 3],\n",
       "        [3, 3]],\n",
       "\n",
       "       [[4, 4],\n",
       "        [4, 4]],\n",
       "\n",
       "       [[5, 5],\n",
       "        [5, 5]],\n",
       "\n",
       "       [[6, 6],\n",
       "        [6, 6]]])"
      ]
     },
     "execution_count": 68,
     "metadata": {},
     "output_type": "execute_result"
    }
   ],
   "source": [
    "## Block Compressed Row Format \n",
    "\"\"\"\n",
    "basically a CSR with dense sub-matrices of fixed shape instead of scalar items\n",
    "block size (R, C) must evenly divide the shape of the matrix (M, N)\n",
    "three NumPy arrays: indices, indptr, data\n",
    "indices is array of column indices for each block\n",
    "data is array of corresponding nonzero values of shape (nnz, R, C)\n",
    "\n",
    "fast matrix vector products and other arithmetics (sparsetools)\n",
    "\n",
    "many arithmetic operations considerably more efficient than CSR for sparse matrices with dense sub-matrices\n",
    "use:\n",
    "like CSR\n",
    "vector-valued finite element discretizations\n",
    "\n",
    "\"\"\"\n",
    "\n",
    "mtx = sparse.bsr_matrix((3, 4), dtype=np.int8)\n",
    "mtx  \n",
    "\n",
    "\n",
    "mtx.todense()\n",
    "\n",
    "# create empty BSR matrix with (3, 2) block size:\n",
    "mtx = sparse.bsr_matrix((3, 4), blocksize=(3, 2), dtype=np.int8)\n",
    "mtx  \n",
    "\n",
    "\n",
    "mtx.todense()\n",
    "\n",
    "# create using (data, ij) tuple with (1, 1) block size (like CSR...):\n",
    "row = np.array([0, 0, 1, 2, 2, 2])\n",
    "col = np.array([0, 2, 2, 0, 1, 2])\n",
    "data = np.array([1, 2, 3, 4, 5, 6])\n",
    "mtx = sparse.bsr_matrix((data, (row, col)), shape=(3, 3))\n",
    "mtx \n",
    "\n",
    "mtx.todense()  \n",
    "\n",
    "mtx.data\n",
    "mtx.indices\n",
    "\n",
    "mtx.indptr\n",
    "\n",
    "#create using (data, indices, indptr) tuple with (2, 2) block size:\n",
    "indptr = np.array([0, 2, 3, 6])\n",
    "indices = np.array([0, 2, 2, 0, 1, 2])\n",
    "data = np.array([1, 2, 3, 4, 5, 6]).repeat(4).reshape(6, 2, 2)\n",
    "mtx = sparse.bsr_matrix((data, indices, indptr), shape=(6, 6))\n",
    "mtx.todense()\n",
    "data"
   ]
  },
  {
   "cell_type": "code",
   "execution_count": null,
   "metadata": {
    "collapsed": true
   },
   "outputs": [],
   "source": []
  }
 ],
 "metadata": {
  "anaconda-cloud": {},
  "kernelspec": {
   "display_name": "Python [default]",
   "language": "python",
   "name": "python3"
  },
  "language_info": {
   "codemirror_mode": {
    "name": "ipython",
    "version": 3
   },
   "file_extension": ".py",
   "mimetype": "text/x-python",
   "name": "python",
   "nbconvert_exporter": "python",
   "pygments_lexer": "ipython3",
   "version": "3.5.2"
  }
 },
 "nbformat": 4,
 "nbformat_minor": 1
}
